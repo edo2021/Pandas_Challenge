{
 "cells": [
  {
   "cell_type": "markdown",
   "metadata": {},
   "source": [
    "### Note\n",
    "* Instructions have been included for each segment. You do not have to follow them exactly, but they are included to help you think through the steps."
   ]
  },
  {
   "cell_type": "code",
   "execution_count": 1,
   "metadata": {},
   "outputs": [
    {
     "data": {
      "text/html": [
       "<div>\n",
       "<style scoped>\n",
       "    .dataframe tbody tr th:only-of-type {\n",
       "        vertical-align: middle;\n",
       "    }\n",
       "\n",
       "    .dataframe tbody tr th {\n",
       "        vertical-align: top;\n",
       "    }\n",
       "\n",
       "    .dataframe thead th {\n",
       "        text-align: right;\n",
       "    }\n",
       "</style>\n",
       "<table border=\"1\" class=\"dataframe\">\n",
       "  <thead>\n",
       "    <tr style=\"text-align: right;\">\n",
       "      <th></th>\n",
       "      <th>Purchase ID</th>\n",
       "      <th>SN</th>\n",
       "      <th>Age</th>\n",
       "      <th>Gender</th>\n",
       "      <th>Item ID</th>\n",
       "      <th>Item Name</th>\n",
       "      <th>Price</th>\n",
       "    </tr>\n",
       "  </thead>\n",
       "  <tbody>\n",
       "    <tr>\n",
       "      <th>0</th>\n",
       "      <td>0</td>\n",
       "      <td>Lisim78</td>\n",
       "      <td>20</td>\n",
       "      <td>Male</td>\n",
       "      <td>108</td>\n",
       "      <td>Extraction, Quickblade Of Trembling Hands</td>\n",
       "      <td>3.53</td>\n",
       "    </tr>\n",
       "    <tr>\n",
       "      <th>1</th>\n",
       "      <td>1</td>\n",
       "      <td>Lisovynya38</td>\n",
       "      <td>40</td>\n",
       "      <td>Male</td>\n",
       "      <td>143</td>\n",
       "      <td>Frenzied Scimitar</td>\n",
       "      <td>1.56</td>\n",
       "    </tr>\n",
       "    <tr>\n",
       "      <th>2</th>\n",
       "      <td>2</td>\n",
       "      <td>Ithergue48</td>\n",
       "      <td>24</td>\n",
       "      <td>Male</td>\n",
       "      <td>92</td>\n",
       "      <td>Final Critic</td>\n",
       "      <td>4.88</td>\n",
       "    </tr>\n",
       "    <tr>\n",
       "      <th>3</th>\n",
       "      <td>3</td>\n",
       "      <td>Chamassasya86</td>\n",
       "      <td>24</td>\n",
       "      <td>Male</td>\n",
       "      <td>100</td>\n",
       "      <td>Blindscythe</td>\n",
       "      <td>3.27</td>\n",
       "    </tr>\n",
       "    <tr>\n",
       "      <th>4</th>\n",
       "      <td>4</td>\n",
       "      <td>Iskosia90</td>\n",
       "      <td>23</td>\n",
       "      <td>Male</td>\n",
       "      <td>131</td>\n",
       "      <td>Fury</td>\n",
       "      <td>1.44</td>\n",
       "    </tr>\n",
       "    <tr>\n",
       "      <th>...</th>\n",
       "      <td>...</td>\n",
       "      <td>...</td>\n",
       "      <td>...</td>\n",
       "      <td>...</td>\n",
       "      <td>...</td>\n",
       "      <td>...</td>\n",
       "      <td>...</td>\n",
       "    </tr>\n",
       "    <tr>\n",
       "      <th>775</th>\n",
       "      <td>775</td>\n",
       "      <td>Aethedru70</td>\n",
       "      <td>21</td>\n",
       "      <td>Female</td>\n",
       "      <td>60</td>\n",
       "      <td>Wolf</td>\n",
       "      <td>3.54</td>\n",
       "    </tr>\n",
       "    <tr>\n",
       "      <th>776</th>\n",
       "      <td>776</td>\n",
       "      <td>Iral74</td>\n",
       "      <td>21</td>\n",
       "      <td>Male</td>\n",
       "      <td>164</td>\n",
       "      <td>Exiled Doomblade</td>\n",
       "      <td>1.63</td>\n",
       "    </tr>\n",
       "    <tr>\n",
       "      <th>777</th>\n",
       "      <td>777</td>\n",
       "      <td>Yathecal72</td>\n",
       "      <td>20</td>\n",
       "      <td>Male</td>\n",
       "      <td>67</td>\n",
       "      <td>Celeste, Incarnation of the Corrupted</td>\n",
       "      <td>3.46</td>\n",
       "    </tr>\n",
       "    <tr>\n",
       "      <th>778</th>\n",
       "      <td>778</td>\n",
       "      <td>Sisur91</td>\n",
       "      <td>7</td>\n",
       "      <td>Male</td>\n",
       "      <td>92</td>\n",
       "      <td>Final Critic</td>\n",
       "      <td>4.19</td>\n",
       "    </tr>\n",
       "    <tr>\n",
       "      <th>779</th>\n",
       "      <td>779</td>\n",
       "      <td>Ennrian78</td>\n",
       "      <td>24</td>\n",
       "      <td>Male</td>\n",
       "      <td>50</td>\n",
       "      <td>Dawn</td>\n",
       "      <td>4.60</td>\n",
       "    </tr>\n",
       "  </tbody>\n",
       "</table>\n",
       "<p>780 rows × 7 columns</p>\n",
       "</div>"
      ],
      "text/plain": [
       "     Purchase ID             SN  Age  Gender  Item ID  \\\n",
       "0              0        Lisim78   20    Male      108   \n",
       "1              1    Lisovynya38   40    Male      143   \n",
       "2              2     Ithergue48   24    Male       92   \n",
       "3              3  Chamassasya86   24    Male      100   \n",
       "4              4      Iskosia90   23    Male      131   \n",
       "..           ...            ...  ...     ...      ...   \n",
       "775          775     Aethedru70   21  Female       60   \n",
       "776          776         Iral74   21    Male      164   \n",
       "777          777     Yathecal72   20    Male       67   \n",
       "778          778        Sisur91    7    Male       92   \n",
       "779          779      Ennrian78   24    Male       50   \n",
       "\n",
       "                                     Item Name  Price  \n",
       "0    Extraction, Quickblade Of Trembling Hands   3.53  \n",
       "1                            Frenzied Scimitar   1.56  \n",
       "2                                 Final Critic   4.88  \n",
       "3                                  Blindscythe   3.27  \n",
       "4                                         Fury   1.44  \n",
       "..                                         ...    ...  \n",
       "775                                       Wolf   3.54  \n",
       "776                           Exiled Doomblade   1.63  \n",
       "777      Celeste, Incarnation of the Corrupted   3.46  \n",
       "778                               Final Critic   4.19  \n",
       "779                                       Dawn   4.60  \n",
       "\n",
       "[780 rows x 7 columns]"
      ]
     },
     "execution_count": 1,
     "metadata": {},
     "output_type": "execute_result"
    }
   ],
   "source": [
    "# Dependencies and Setup\n",
    "import pandas as pd\n",
    "import os\n",
    "import csv\n",
    "\n",
    "# File to Load\n",
    "file_to_load = \"Resources/purchase_data.csv\"\n",
    "\n",
    "# Read Purchasing File and store into Pandas data frame\n",
    "purchase_data = pd.read_csv(file_to_load,low_memory=False)\n",
    "purchase_data"
   ]
  },
  {
   "cell_type": "markdown",
   "metadata": {},
   "source": [
    "## Player Count"
   ]
  },
  {
   "cell_type": "markdown",
   "metadata": {},
   "source": [
    "* Display the total number of players\n"
   ]
  },
  {
   "cell_type": "code",
   "execution_count": 2,
   "metadata": {},
   "outputs": [
    {
     "data": {
      "text/html": [
       "<div>\n",
       "<style scoped>\n",
       "    .dataframe tbody tr th:only-of-type {\n",
       "        vertical-align: middle;\n",
       "    }\n",
       "\n",
       "    .dataframe tbody tr th {\n",
       "        vertical-align: top;\n",
       "    }\n",
       "\n",
       "    .dataframe thead th {\n",
       "        text-align: right;\n",
       "    }\n",
       "</style>\n",
       "<table border=\"1\" class=\"dataframe\">\n",
       "  <thead>\n",
       "    <tr style=\"text-align: right;\">\n",
       "      <th></th>\n",
       "      <th>Total Players</th>\n",
       "    </tr>\n",
       "  </thead>\n",
       "  <tbody>\n",
       "    <tr>\n",
       "      <th>0</th>\n",
       "      <td>576</td>\n",
       "    </tr>\n",
       "  </tbody>\n",
       "</table>\n",
       "</div>"
      ],
      "text/plain": [
       "   Total Players\n",
       "0            576"
      ]
     },
     "execution_count": 2,
     "metadata": {},
     "output_type": "execute_result"
    }
   ],
   "source": [
    "Player_Totals = purchase_data.loc[:,[\"Gender\", \"SN\", \"Age\"]]\n",
    "Player_Totals = Player_Totals.drop_duplicates()\n",
    "Number_of_Players = Player_Totals.count()[0]\n",
    "\n",
    "pd.DataFrame({\"Total Players\" : [Number_of_Players]})"
   ]
  },
  {
   "cell_type": "markdown",
   "metadata": {},
   "source": [
    "## Purchasing Analysis (Total)"
   ]
  },
  {
   "cell_type": "markdown",
   "metadata": {},
   "source": [
    "* Run basic calculations to obtain number of unique items, average price, etc.\n",
    "\n",
    "\n",
    "* Create a summary data frame to hold the results\n",
    "\n",
    "\n",
    "* Optional: give the displayed data cleaner formatting\n",
    "\n",
    "\n",
    "* Display the summary data frame\n"
   ]
  },
  {
   "cell_type": "code",
   "execution_count": 4,
   "metadata": {
    "scrolled": true
   },
   "outputs": [
    {
     "data": {
      "text/html": [
       "<div>\n",
       "<style scoped>\n",
       "    .dataframe tbody tr th:only-of-type {\n",
       "        vertical-align: middle;\n",
       "    }\n",
       "\n",
       "    .dataframe tbody tr th {\n",
       "        vertical-align: top;\n",
       "    }\n",
       "\n",
       "    .dataframe thead th {\n",
       "        text-align: right;\n",
       "    }\n",
       "</style>\n",
       "<table border=\"1\" class=\"dataframe\">\n",
       "  <thead>\n",
       "    <tr style=\"text-align: right;\">\n",
       "      <th></th>\n",
       "      <th>Number of Unique Items</th>\n",
       "      <th>Average Purchase Price</th>\n",
       "      <th>Total Number of Purchases</th>\n",
       "      <th>Total Revenue</th>\n",
       "    </tr>\n",
       "  </thead>\n",
       "  <tbody>\n",
       "    <tr>\n",
       "      <th>0</th>\n",
       "      <td>179</td>\n",
       "      <td>$3.05</td>\n",
       "      <td>780</td>\n",
       "      <td>$2,379.77</td>\n",
       "    </tr>\n",
       "  </tbody>\n",
       "</table>\n",
       "</div>"
      ],
      "text/plain": [
       "   Number of Unique Items Average Purchase Price  Total Number of Purchases  \\\n",
       "0                     179                  $3.05                        780   \n",
       "\n",
       "  Total Revenue  \n",
       "0     $2,379.77  "
      ]
     },
     "execution_count": 4,
     "metadata": {},
     "output_type": "execute_result"
    }
   ],
   "source": [
    "#finding unique items by item id\n",
    "Number_of_Unique_Items = purchase_data['Item ID'].nunique()\n",
    "\n",
    "#calculating average,number od purcchase,total revenue\n",
    "Average_Price = purchase_data['Price'].mean()\n",
    "Number_of_Purchases = purchase_data['Purchase ID'].count()\n",
    "Total_Revenue = purchase_data['Price'].sum().round(2)\n",
    "\n",
    "#Displaying total purchase analysis \n",
    "Total_Purchasing_AnalysisDF = pd.DataFrame({\n",
    "    \"Number of Unique Items\":[Number_of_Unique_Items],\n",
    "    \"Average Purchase Price\":[Average_Price],\n",
    "    \"Total Number of Purchases\":[Number_of_Purchases],\n",
    "    \"Total Revenue\":[Total_Revenue]})\n",
    "Total_Purchasing_AnalysisDF[\"Average Purchase Price\"] = Total_Purchasing_AnalysisDF[\"Average Purchase Price\"].map(\"${:.2f}\".format)\n",
    "Total_Purchasing_AnalysisDF[\"Total Revenue\"] = Total_Purchasing_AnalysisDF[\"Total Revenue\"].map(\"${:,.2f}\".format)\n",
    "Total_Purchasing_AnalysisDF"
   ]
  },
  {
   "cell_type": "markdown",
   "metadata": {},
   "source": [
    "## Gender Demographics"
   ]
  },
  {
   "cell_type": "markdown",
   "metadata": {},
   "source": [
    "* Percentage and Count of Male Players\n",
    "\n",
    "\n",
    "* Percentage and Count of Female Players\n",
    "\n",
    "\n",
    "* Percentage and Count of Other / Non-Disclosed\n",
    "\n",
    "\n"
   ]
  },
  {
   "cell_type": "code",
   "execution_count": null,
   "metadata": {},
   "outputs": [],
   "source": [
    " #finding total number and percentege by gender\n",
    "Gender_Totals = Player_Totals[\"Gender\"].value_counts()\n",
    "Gender_Percents = Gender_Totals/Number_of_Players*100 \n",
    "\n",
    "\n",
    "Gender_DemographicsDF = pd.DataFrame({f\"Total Count\": Gender_Totals, \"Percentage of Players\":Gender_Percents})\n",
    "\n",
    "\n",
    "Gender_DemographicsDF = Gender_DemographicsDF.round(2)\n",
    "Gender_DemographicsDF"
   ]
  },
  {
   "cell_type": "markdown",
   "metadata": {},
   "source": [
    "\n",
    "## Purchasing Analysis (Gender)"
   ]
  },
  {
   "cell_type": "markdown",
   "metadata": {},
   "source": [
    "* Run basic calculations to obtain purchase count, avg. purchase price, avg. purchase total per person etc. by gender\n",
    "\n",
    "\n",
    "\n",
    "\n",
    "* Create a summary data frame to hold the results\n",
    "\n",
    "\n",
    "* Optional: give the displayed data cleaner formatting\n",
    "\n",
    "\n",
    "* Display the summary data frame"
   ]
  },
  {
   "cell_type": "code",
   "execution_count": null,
   "metadata": {},
   "outputs": [],
   "source": [
    "Gender_Purchase_Count = purchase_data.groupby([\"Gender\"])[\"Price\"].count().rename(\"Purchase Count\")\n",
    "Average_Gender_Purchase_Price = purchase_data.groupby([\"Gender\"])[\"Price\"].mean().rename(\"Average Purchase Price\")\n",
    "Total_Gender_Purchase_Value = purchase_data.groupby([\"Gender\"])[\"Price\"].sum().rename(\"Total Purchase Value\")\n",
    "Average_Purchase_Total_PG = Total_Gender_Purchase_Value / Gender_DemographicsDF[\"Total Count\"]\n",
    "\n",
    "\n",
    "### Purchasing Analysis (Gender) DataFrame ###\n",
    "Gender_Purchasing_AnalysisDF = pd.DataFrame({\"Purchase Count\": Gender_Purchase_Count,\n",
    "                                            \"Average Purchase Price\": Average_Gender_Purchase_Price,\n",
    "                                            \"Total Purchase Value\": Total_Gender_Purchase_Value,\n",
    "                                            \"Avg Total Purchase Per Person\": Average_Purchase_Total_PG})\n",
    "### Currency/Formatting Added ###\n",
    "Gender_Purchasing_AnalysisDF[\"Average Purchase Price\"] = Gender_Purchasing_AnalysisDF[\"Average Purchase Price\"].map(\"${:.2f}\".format) \n",
    "Gender_Purchasing_AnalysisDF[\"Total Purchase Value\"] = Gender_Purchasing_AnalysisDF[\"Total Purchase Value\"].map(\"${:.2f}\".format)\n",
    "Gender_Purchasing_AnalysisDF[\"Avg Total Purchase Per Person\"] = Gender_Purchasing_AnalysisDF[\"Avg Total Purchase Per Person\"].map(\"${:.2f}\".format)\n",
    "Gender_Purchasing_AnalysisDF = Gender_Purchasing_AnalysisDF.loc[:, [\"Purchase Count\", \"Average Purchase Price\", \"Total Purchase Value\", \"Avg Total Purchase Per Person\"]]\n",
    "Gender_Purchasing_AnalysisDF"
   ]
  },
  {
   "cell_type": "markdown",
   "metadata": {},
   "source": [
    "## Age Demographics"
   ]
  },
  {
   "cell_type": "markdown",
   "metadata": {},
   "source": [
    "* Establish bins for ages\n",
    "\n",
    "\n",
    "* Categorize the existing players using the age bins. Hint: use pd.cut()\n",
    "\n",
    "\n",
    "* Calculate the numbers and percentages by age group\n",
    "\n",
    "\n",
    "* Create a summary data frame to hold the results\n",
    "\n",
    "\n",
    "* Optional: round the percentage column to two decimal points\n",
    "\n",
    "\n",
    "* Display Age Demographics Table\n"
   ]
  },
  {
   "cell_type": "code",
   "execution_count": null,
   "metadata": {},
   "outputs": [],
   "source": [
    "bins = [0, 9.90, 14.90, 19.90, 24.90, 29.90, 34.90, 39.90, 99999]\n",
    "bin_labels = [\"<10\", \"10-14\", \"15-19\", \"20-24\", \"25-29\", \"30-34\", \"35-39\", \"40+\"]\n",
    "    \n",
    "    # Purchase Count\n",
    "    # Average Purchase Price\n",
    "    # Total Purchase Value\n",
    "    # Average Purchase Total per Person by Age Group\n",
    "\n",
    "Player_Totals[\"Age Ranges\"] = pd.cut(Player_Totals[\"Age\"], bins, labels = bin_labels)\n",
    "Age_Demographics_Totals = Player_Totals[\"Age Ranges\"].value_counts()\n",
    "Age_Demographics_Percents = Age_Demographics_Totals / Number_of_Players * 100\n",
    "\n",
    "### Age Demographics Data Frame ###\n",
    "Age_DemographicsDF = pd.DataFrame({\"Total Count\": Age_Demographics_Totals, \"Percentage of Players\": Age_Demographics_Percents})\n",
    "\n",
    "### Currency/Formatting Added ###\n",
    "Age_DemographicsDF = Age_DemographicsDF.round(2)\n",
    "Age_DemographicsDF.sort_index()"
   ]
  },
  {
   "cell_type": "markdown",
   "metadata": {},
   "source": [
    "## Purchasing Analysis (Age)"
   ]
  },
  {
   "cell_type": "markdown",
   "metadata": {},
   "source": [
    "* Bin the purchase_data data frame by age\n",
    "\n",
    "\n",
    "* Run basic calculations to obtain purchase count, avg. purchase price, avg. purchase total per person etc. in the table below\n",
    "\n",
    "\n",
    "* Create a summary data frame to hold the results\n",
    "\n",
    "\n",
    "* Optional: give the displayed data cleaner formatting\n",
    "\n",
    "\n",
    "* Display the summary data frame"
   ]
  },
  {
   "cell_type": "code",
   "execution_count": null,
   "metadata": {},
   "outputs": [],
   "source": [
    "PurchasingAnalysis = pd.DataFrame({     })\n",
    "\n",
    "bins = [0,10,14,19,24,29,34,40,100]\n",
    "group_names = [\"<10\",\"10-14\",\"15-19\",\"20-24\",\"25-29\",\"30-34\",\"35-39\",\"40+\"] \n",
    "\n",
    "purchase_data[\"\"] = pd.cut(purchase_data[\"Age\"], bins,right = False, labels=group_names)\n",
    "grouped_purchase_data = purchase_data.groupby([\"\"])\n",
    "PurchasingAnalysis[\"Purchase Count\"]=grouped_purchase_data['Price'].count()\n",
    "PurchasingAnalysis[\"Average Purchase Price\"]= grouped_purchase_data['Price'].mean().round(2)\n",
    "PurchasingAnalysis[\"Total Purchase value\"] = grouped_purchase_data['Price'].sum().round(2)\n",
    "PurchasingAnalysis[\"Avg Total Purchase per Person\"] = grouped_purchase_data['Price','SN'].mean()\n",
    "\n",
    "PurchasingAnalysis"
   ]
  },
  {
   "cell_type": "markdown",
   "metadata": {},
   "source": [
    "## Top Spenders"
   ]
  },
  {
   "cell_type": "markdown",
   "metadata": {},
   "source": [
    "* Run basic calculations to obtain the results in the table below\n",
    "\n",
    "\n",
    "* Create a summary data frame to hold the results\n",
    "\n",
    "\n",
    "* Sort the total purchase value column in descending order\n",
    "\n",
    "\n",
    "* Optional: give the displayed data cleaner formatting\n",
    "\n",
    "\n",
    "* Display a preview of the summary data frame\n",
    "\n"
   ]
  },
  {
   "cell_type": "code",
   "execution_count": null,
   "metadata": {},
   "outputs": [],
   "source": [
    "Spender_Analysis = purchase_data.groupby(\"SN\")\n",
    "\n",
    "Top_Purchase_Count = Spender_Analysis[\"Purchase ID\"].count().round(2)\n",
    "Avg_Spender_Price = Spender_Analysis[\"Price\"].mean().round(2)\n",
    "Total_Spender_Purchase = Spender_Analysis[\"Price\"].sum().round(2)\n",
    "\n",
    "### Top Spenders Data Frame ###\n",
    "Top_Spenders_Analysis = pd.DataFrame({\"Purchase Count\": Top_Purchase_Count,\n",
    "                               \"Average Purchase Price\" : Avg_Spender_Price,\n",
    "                                \"Total Purchase Value\": Total_Spender_Purchase\n",
    "})\n",
    "### Currency/Formatting Added ###                                   \n",
    "Top_5_Spenders_DataFrame = Top_Spenders_Analysis.sort_values([\"Total Purchase Value\"], ascending=False).head(5) \n",
    "Top_5_Spenders_DataFrame[\"Average Purchase Price\"] = Top_5_Spenders_DataFrame[\"Average Purchase Price\"].map(\"${:.2f}\".format)\n",
    "Top_5_Spenders_DataFrame[\"Total Purchase Value\"] = Top_5_Spenders_DataFrame[\"Total Purchase Value\"].map(\"${:.2f}\".format)\n",
    "Top_5_Spenders_DataFrame"
   ]
  },
  {
   "cell_type": "markdown",
   "metadata": {},
   "source": [
    "## Most Popular Items"
   ]
  },
  {
   "cell_type": "markdown",
   "metadata": {},
   "source": [
    "* Retrieve the Item ID, Item Name, and Item Price columns\n",
    "\n",
    "\n",
    "* Group by Item ID and Item Name. Perform calculations to obtain purchase count, average item price, and total purchase value\n",
    "\n",
    "\n",
    "* Create a summary data frame to hold the results\n",
    "\n",
    "\n",
    "* Sort the purchase count column in descending order\n",
    "\n",
    "\n",
    "* Optional: give the displayed data cleaner formatting\n",
    "\n",
    "\n",
    "* Display a preview of the summary data frame\n",
    "\n"
   ]
  },
  {
   "cell_type": "code",
   "execution_count": null,
   "metadata": {},
   "outputs": [],
   "source": [
    "mpo = pd.DataFrame({})\n",
    "\n",
    "mpo['Item ID']= purchase_data['Item ID']\n",
    "mpo['Item Name']= purchase_data['Item Name']\n",
    "mpo['Price']= purchase_data['Price']\n",
    "mpo_grouped = mpo.groupby(['Item ID','Item Name','Price'])\n",
    "total = mpo_grouped['Price'].sum()\n",
    "price = mpo_grouped.Price\n",
    "p_count = mpo_grouped['Price'].count()\n",
    "\n",
    "state_summary_table = pd.DataFrame({\"Purchase Count\": p_count,\n",
    "                                    \n",
    "                                    \"Total Purchase Value\": total})\n",
    "state_summary_table.sort_values(by = 'Total Purchase Value', ascending=False).head()"
   ]
  },
  {
   "cell_type": "markdown",
   "metadata": {},
   "source": [
    "## Most Profitable Items"
   ]
  },
  {
   "cell_type": "code",
   "execution_count": null,
   "metadata": {
    "scrolled": true
   },
   "outputs": [],
   "source": [
    "state_summary_table.sort_values(by = 'Total Purchase Value', ascending=False).head()\n"
   ]
  }
 ],
 "metadata": {
  "anaconda-cloud": {},
  "kernel_info": {
   "name": "python3"
  },
  "kernelspec": {
   "display_name": "Python 3",
   "language": "python",
   "name": "python3"
  },
  "language_info": {
   "codemirror_mode": {
    "name": "ipython",
    "version": 3
   },
   "file_extension": ".py",
   "mimetype": "text/x-python",
   "name": "python",
   "nbconvert_exporter": "python",
   "pygments_lexer": "ipython3",
   "version": "3.6.10"
  },
  "latex_envs": {
   "LaTeX_envs_menu_present": true,
   "autoclose": false,
   "autocomplete": true,
   "bibliofile": "biblio.bib",
   "cite_by": "apalike",
   "current_citInitial": 1,
   "eqLabelWithNumbers": true,
   "eqNumInitial": 1,
   "hotkeys": {
    "equation": "Ctrl-E",
    "itemize": "Ctrl-I"
   },
   "labels_anchors": false,
   "latex_user_defs": false,
   "report_style_numbering": false,
   "user_envs_cfg": false
  },
  "nteract": {
   "version": "0.2.0"
  }
 },
 "nbformat": 4,
 "nbformat_minor": 2
}
